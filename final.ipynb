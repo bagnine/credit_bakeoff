{
 "metadata": {
  "language_info": {
   "codemirror_mode": {
    "name": "ipython",
    "version": 3
   },
   "file_extension": ".py",
   "mimetype": "text/x-python",
   "name": "python",
   "nbconvert_exporter": "python",
   "pygments_lexer": "ipython3",
   "version": "3.6.9-final"
  },
  "orig_nbformat": 2,
  "kernelspec": {
   "name": "python3",
   "display_name": "Python 3"
  }
 },
 "nbformat": 4,
 "nbformat_minor": 2,
 "cells": [
  {
   "cell_type": "code",
   "execution_count": 1,
   "metadata": {},
   "outputs": [],
   "source": [
    "import pandas as pd\n",
    "import pickle as pkl \n",
    "import numpy as np"
   ]
  },
  {
   "cell_type": "code",
   "execution_count": 2,
   "metadata": {},
   "outputs": [],
   "source": [
    "data = pd.read_csv('holdout_data.csv')"
   ]
  },
  {
   "cell_type": "code",
   "execution_count": 3,
   "metadata": {},
   "outputs": [],
   "source": [
    "columns = ['credit_given', 'gender', 'education', 'marital_status', 'age', 'sep_pay', 'aug_pay', 'jul_pay', 'jun_pay', 'may_pay', 'apr_pay', 'sep_bill', 'aug_bill', 'jul_bill', 'jun_bill', 'may_bill', 'apr_bill', 'sep_paid', 'aug_paid', 'jul_paid', 'jun_paid', 'may_paid', 'apr_paid']\n",
    "\n",
    "data.drop(columns = 'Unnamed: 0', inplace = True)\n",
    "\n",
    "data.columns = columns"
   ]
  },
  {
   "cell_type": "code",
   "execution_count": 4,
   "metadata": {},
   "outputs": [],
   "source": [
    "data = data[['credit_given', 'gender', 'education', 'marital_status', 'age', 'sep_pay', 'aug_pay', 'jul_pay', 'jun_pay', 'may_pay', 'apr_pay', 'sep_bill', 'aug_bill', 'jul_bill', 'jun_bill', 'may_bill', 'apr_bill', 'sep_paid', 'aug_paid', 'jul_paid', 'jun_paid', 'may_paid', 'apr_paid']].astype(int)"
   ]
  },
  {
   "cell_type": "code",
   "execution_count": 5,
   "metadata": {},
   "outputs": [],
   "source": [
    "data.education = data.education.apply(lambda x: 4 if x > 3 or x == 0 else x)\n",
    "\n",
    "data['gender'] = np.where(data.gender == 1, data.gender, 0)"
   ]
  },
  {
   "cell_type": "code",
   "execution_count": 7,
   "metadata": {},
   "outputs": [],
   "source": [
    "data.apr_pay = data.apr_pay.apply(lambda x: 6 if x > 6 else x)\n",
    "data.may_pay = data.may_pay.apply(lambda x: 6 if x > 6 else x)\n",
    "data.jun_pay = data.jun_pay.apply(lambda x: 6 if x > 6 else x)\n",
    "data.jul_pay = data.jul_pay.apply(lambda x: 6 if x > 6 else x)\n",
    "data.aug_pay = data.aug_pay.apply(lambda x: 6 if x > 6 else x)\n",
    "data.sep_pay = data.sep_pay.apply(lambda x: 6 if x > 6 else x)\n",
    "\n",
    "data.apr_pay = data.apr_pay.apply(lambda x: 2 if x==1 else x)\n",
    "data.may_pay = data.may_pay.apply(lambda x: 2 if x==1 else x)\n",
    "data.jun_pay = data.jun_pay.apply(lambda x: 2 if x==1 else x)\n",
    "data.jul_pay = data.jul_pay.apply(lambda x: 2 if x==1 else x)\n",
    "data.aug_pay = data.aug_pay.apply(lambda x: 2 if x ==1 else x)\n",
    "data.sep_pay = data.sep_pay.apply(lambda x: 2 if x ==1 else x)"
   ]
  },
  {
   "cell_type": "code",
   "execution_count": 8,
   "metadata": {},
   "outputs": [],
   "source": [
    "data.apr_bill = data.apr_bill.apply(lambda x: 0 if x < 0 else x)\n",
    "data.may_bill = data.may_bill.apply(lambda x: 0 if x < 0 else x)\n",
    "data.jun_bill = data.jun_bill.apply(lambda x: 0 if x < 0 else x)\n",
    "data.jul_bill = data.jul_bill.apply(lambda x: 0 if x < 0 else x)\n",
    "data.aug_bill = data.aug_bill.apply(lambda x: 0 if x < 0 else x)\n",
    "data.sep_bill = data.sep_bill.apply(lambda x: 0 if x < 0 else x)"
   ]
  },
  {
   "cell_type": "code",
   "execution_count": 9,
   "metadata": {},
   "outputs": [],
   "source": [
    "data['avg_bill'] = data[['sep_bill', 'aug_bill', 'jul_bill', 'jun_bill', 'may_bill', 'apr_bill']].mean(axis = 1)\n",
    "data['avg_paid'] = data[['sep_paid', 'aug_paid', 'jul_paid', 'jun_paid', 'may_paid', 'apr_paid']].mean(axis = 1)\n",
    "data['avg_dif'] = data['avg_bill'] - data['avg_paid']"
   ]
  },
  {
   "cell_type": "code",
   "execution_count": 10,
   "metadata": {},
   "outputs": [],
   "source": [
    "df_use = pd.DataFrame(columns = ['a'])\n",
    "\n",
    "df_use['sep_use'] = data.sep_bill/data.credit_given\n",
    "df_use['aug_use'] = data.aug_bill/data.credit_given\n",
    "df_use['jul_use'] = data.jul_bill/data.credit_given\n",
    "df_use['jun_use'] = data.jun_bill/data.credit_given\n",
    "df_use['may_use'] = data.may_bill/data.credit_given\n",
    "df_use['apr_use'] = data.apr_bill/data.credit_given\n",
    "#added since last test\n",
    "df_use['avg_use'] = df_use[['sep_use', 'aug_use', 'jul_use', 'jun_use', 'may_use', 'apr_use']].mean(axis = 1)\n",
    "\n",
    "\n",
    "df_use.drop(columns = 'a', inplace = True)"
   ]
  },
  {
   "cell_type": "code",
   "execution_count": 11,
   "metadata": {},
   "outputs": [],
   "source": [
    "def dummy_list(column, prefix, drop_value):\n",
    "    ''' Takes in a column, a prefix and drop value and generates a DataFrame of dummy columns with the specified prefix and column categories minus the specified drop value'''\n",
    "    dum = pd.get_dummies(column, prefix = prefix)\n",
    "    dum = dum.drop(columns = f'{prefix}_{drop_value}')\n",
    "    return dum\n",
    "\n",
    "def dummy_df(list_of_columns, list_of_prefixes, list_of_drop_values):\n",
    "    r = pd.DataFrame(columns = ['a'])\n",
    "    for i in range(0, len(list_of_columns)-1):\n",
    "        r = pd.concat([r, dummy_list(list_of_columns[i], list_of_prefixes[i], list_of_drop_values[i])], axis = 1)\n",
    "    return r"
   ]
  },
  {
   "cell_type": "code",
   "execution_count": 12,
   "metadata": {},
   "outputs": [],
   "source": [
    "cols = [data.sep_pay, data.aug_pay, data.jul_pay, data.jun_pay, data.may_pay, data.apr_pay]\n",
    "\n",
    "pref = ['sep', 'aug', 'jul', 'jun', 'may', 'apr']\n",
    "\n",
    "drops = [6,6,6,6,6,6]\n",
    "#tune this parameter\n",
    "dum_df = dummy_df(cols, pref, drops)\n",
    "\n",
    "dum_df.drop(columns = 'a', inplace = True)\n",
    "\n",
    "mar_dum = dummy_list(data.marital_status, 'mar', 0)\n",
    "\n",
    "ed_dum = dummy_list(data.education, 'ed', 4)\n",
    "\n",
    "data.drop(columns = ['sep_pay', 'aug_pay', 'jul_pay', 'jun_pay', 'may_pay', 'apr_pay', 'marital_status', 'education'], inplace = True)"
   ]
  },
  {
   "cell_type": "code",
   "execution_count": 13,
   "metadata": {},
   "outputs": [],
   "source": [
    "X = pd.concat([data, dum_df, mar_dum, ed_dum], axis = 1)"
   ]
  },
  {
   "cell_type": "code",
   "execution_count": 14,
   "metadata": {},
   "outputs": [
    {
     "output_type": "stream",
     "name": "stdout",
     "text": [
      "Loaded RFC model ::  RandomForestClassifier(class_weight='balanced', max_depth=6, max_features=11,\n                       n_estimators=550, n_jobs=-1, oob_score=True,\n                       random_state=1, verbose=1)\n"
     ]
    }
   ],
   "source": [
    "model_pickle_path = 'bakeoff_model.pkl'\n",
    "\n",
    "rfc_model_pkl = open(model_pickle_path, 'rb')\n",
    "rfc_model = pkl.load(rfc_model_pkl)\n",
    "print(\"Loaded RFC model :: \", rfc_model)"
   ]
  },
  {
   "cell_type": "code",
   "execution_count": 17,
   "metadata": {},
   "outputs": [
    {
     "output_type": "stream",
     "name": "stderr",
     "text": [
      "[Parallel(n_jobs=8)]: Using backend ThreadingBackend with 8 concurrent workers.\n[Parallel(n_jobs=8)]: Done  34 tasks      | elapsed:    0.0s\n[Parallel(n_jobs=8)]: Done 184 tasks      | elapsed:    0.1s\n[Parallel(n_jobs=8)]: Done 434 tasks      | elapsed:    0.1s\n[Parallel(n_jobs=8)]: Done 550 out of 550 | elapsed:    0.2s finished\n"
     ]
    }
   ],
   "source": [
    "pd.DataFrame(rfc_model.predict(X)).to_csv('bakeoff_preds_Nick_Subic.csv')"
   ]
  },
  {
   "cell_type": "code",
   "execution_count": 20,
   "metadata": {},
   "outputs": [
    {
     "output_type": "stream",
     "name": "stderr",
     "text": [
      "[Parallel(n_jobs=8)]: Using backend ThreadingBackend with 8 concurrent workers.\n[Parallel(n_jobs=8)]: Done  34 tasks      | elapsed:    0.0s\n[Parallel(n_jobs=8)]: Done 184 tasks      | elapsed:    0.1s\n[Parallel(n_jobs=8)]: Done 434 tasks      | elapsed:    0.1s\n[Parallel(n_jobs=8)]: Done 550 out of 550 | elapsed:    0.2s finished\n"
     ]
    }
   ],
   "source": [
    "preds = rfc_model.predict(X)"
   ]
  },
  {
   "cell_type": "code",
   "execution_count": 22,
   "metadata": {},
   "outputs": [
    {
     "output_type": "execute_result",
     "data": {
      "text/plain": [
       "0    5576\n",
       "1    1925\n",
       "dtype: int64"
      ]
     },
     "metadata": {},
     "execution_count": 22
    }
   ],
   "source": [
    "pd.Series(preds).value_counts()"
   ]
  },
  {
   "cell_type": "code",
   "execution_count": null,
   "metadata": {},
   "outputs": [],
   "source": []
  }
 ]
}